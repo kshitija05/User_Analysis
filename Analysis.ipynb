{
 "cells": [
  {
   "cell_type": "code",
   "execution_count": 1,
   "id": "5e00df6a-0076-458e-8e57-15b921364085",
   "metadata": {},
   "outputs": [],
   "source": [
    "import pandas as pd\n",
    "import matplotlib.pyplot as plt"
   ]
  },
  {
   "cell_type": "markdown",
   "id": "18b1fbc5-f620-4869-9d0d-c96543370b65",
   "metadata": {},
   "source": [
    "Loading the Datasets"
   ]
  },
  {
   "cell_type": "code",
   "execution_count": 21,
   "id": "243ad48d-4a15-4922-808e-58767de0f238",
   "metadata": {},
   "outputs": [],
   "source": [
    "df_users = pd.read_csv('Users.csv')\n",
    "df_photos = pd.read_csv('Photo.csv')\n",
    "df_likes = pd.read_csv('Likes.csv')\n",
    "df_follows = pd.read_csv('Follows.csv')\n",
    "df_comments = pd.read_csv('Comments.csv')\n",
    "df_tags = pd.read_csv('Tags.csv')\n",
    "df_photo_tags = pd.read_csv('Photo_tags.csv')"
   ]
  },
  {
   "cell_type": "markdown",
   "id": "d4739b04-b7ec-4576-be40-a39658ef2370",
   "metadata": {},
   "source": [
    "Finding the columns and shape of each table"
   ]
  },
  {
   "cell_type": "code",
   "execution_count": 22,
   "id": "d7e90ab4-33ac-43b5-b28a-2d4e2ff68887",
   "metadata": {},
   "outputs": [
    {
     "name": "stdout",
     "output_type": "stream",
     "text": [
      "df_users Columns were---> Index(['id', 'username', 'created_at'], dtype='object')\n",
      "df_users Shape of DataFrame ---> (100, 3)\n",
      "df_photos Columns were---> Index(['id', 'image_url', 'user_id', 'created_dat'], dtype='object')\n",
      "df_photos Shape of DataFrame ---> (257, 4)\n",
      "df_likes Columns were---> Index(['user_id', 'photo_id', 'created_at'], dtype='object')\n",
      "df_likes Shape of DataFrame ---> (8782, 3)\n",
      "df_follows Columns were---> Index(['follower_id', 'followee_id', 'created_at'], dtype='object')\n",
      "df_follows Shape of DataFrame ---> (7623, 3)\n",
      "df_comments Columns were---> Index(['id', 'comment_text', 'user_id', 'photo_id', 'created_at'], dtype='object')\n",
      "df_comments Shape of DataFrame ---> (7488, 5)\n",
      "df_tags Columns were---> Index(['id', 'tag_name', 'created_at'], dtype='object')\n",
      "df_tags Shape of DataFrame ---> (21, 3)\n",
      "df_photo_tags Columns were---> Index(['photo_id', 'tag_id'], dtype='object')\n",
      "df_photo_tags Shape of DataFrame ---> (501, 2)\n"
     ]
    }
   ],
   "source": [
    "list_df=[df_users,df_photos,df_likes,df_follows,df_comments,df_tags,df_photo_tags]\n",
    "list_dfstr=[\"df_users\",\"df_photos\",\"df_likes\",\"df_follows\",\"df_comments\",\"df_tags\",\"df_photo_tags\"]\n",
    "for i,dfstr in zip(list_df,list_dfstr):\n",
    "    print(dfstr,\"Columns were--->\",i.columns)\n",
    "    print(dfstr,\"Shape of DataFrame --->\",i.shape)"
   ]
  },
  {
   "cell_type": "markdown",
   "id": "9f939da9-0d78-4172-90ae-2d8da2807c2c",
   "metadata": {},
   "source": [
    "Checking the Data type of each column"
   ]
  },
  {
   "cell_type": "code",
   "execution_count": 23,
   "id": "c9978df1-6a33-474e-af6e-7c004e685674",
   "metadata": {},
   "outputs": [
    {
     "name": "stdout",
     "output_type": "stream",
     "text": [
      "df_users Data Types were---> \n",
      " id             int64\n",
      "username      object\n",
      "created_at    object\n",
      "dtype: object\n",
      "df_photos Data Types were---> \n",
      " id              int64\n",
      "image_url      object\n",
      "user_id         int64\n",
      "created_dat    object\n",
      "dtype: object\n",
      "df_likes Data Types were---> \n",
      " user_id        int64\n",
      "photo_id       int64\n",
      "created_at    object\n",
      "dtype: object\n",
      "df_follows Data Types were---> \n",
      " follower_id     int64\n",
      "followee_id     int64\n",
      "created_at     object\n",
      "dtype: object\n",
      "df_comments Data Types were---> \n",
      " id               int64\n",
      "comment_text    object\n",
      "user_id          int64\n",
      "photo_id         int64\n",
      "created_at      object\n",
      "dtype: object\n",
      "df_tags Data Types were---> \n",
      " id             int64\n",
      "tag_name      object\n",
      "created_at    object\n",
      "dtype: object\n",
      "df_photo_tags Data Types were---> \n",
      " photo_id    int64\n",
      "tag_id      int64\n",
      "dtype: object\n"
     ]
    }
   ],
   "source": [
    "for i,dfstr in zip(list_df,list_dfstr):\n",
    "    print(dfstr,\"Data Types were--->\",\"\\n\",i.dtypes)"
   ]
  },
  {
   "cell_type": "markdown",
   "id": "a0c2eead-7496-45b7-967b-127f905f94f7",
   "metadata": {},
   "source": [
    "Correcting the datatype"
   ]
  },
  {
   "cell_type": "code",
   "execution_count": 25,
   "id": "ba3e888d-6a60-4f8c-a558-5d704a0fdabd",
   "metadata": {},
   "outputs": [],
   "source": [
    "def ChangeObjectTo_DT(df, column_name):\n",
    "    df[column_name] = pd.to_datetime(df[column_name])\n",
    "    \n",
    "ChangeObjectTo_DT(df_users, 'created_at')\n",
    "ChangeObjectTo_DT(df_photos, 'created_dat')\n",
    "ChangeObjectTo_DT(df_likes, 'created_at')\n",
    "ChangeObjectTo_DT(df_follows, 'created_at')\n",
    "ChangeObjectTo_DT(df_comments, 'created_at')\n",
    "ChangeObjectTo_DT(df_tags, 'created_at')\n"
   ]
  },
  {
   "cell_type": "markdown",
   "id": "ebaad7a4-863e-4bd3-8973-10737431655a",
   "metadata": {},
   "source": [
    "Checking The DataType After Cleaning"
   ]
  },
  {
   "cell_type": "code",
   "execution_count": 26,
   "id": "33ac5f7c-07b8-4974-9d21-cc0340f296a5",
   "metadata": {},
   "outputs": [
    {
     "name": "stdout",
     "output_type": "stream",
     "text": [
      "df_users Data Types were---> \n",
      " id                     int64\n",
      "username              object\n",
      "created_at    datetime64[ns]\n",
      "dtype: object\n",
      "df_photos Data Types were---> \n",
      " id                      int64\n",
      "image_url              object\n",
      "user_id                 int64\n",
      "created_dat    datetime64[ns]\n",
      "dtype: object\n",
      "df_likes Data Types were---> \n",
      " user_id                int64\n",
      "photo_id               int64\n",
      "created_at    datetime64[ns]\n",
      "dtype: object\n",
      "df_follows Data Types were---> \n",
      " follower_id             int64\n",
      "followee_id             int64\n",
      "created_at     datetime64[ns]\n",
      "dtype: object\n",
      "df_comments Data Types were---> \n",
      " id                       int64\n",
      "comment_text            object\n",
      "user_id                  int64\n",
      "photo_id                 int64\n",
      "created_at      datetime64[ns]\n",
      "dtype: object\n",
      "df_tags Data Types were---> \n",
      " id                     int64\n",
      "tag_name              object\n",
      "created_at    datetime64[ns]\n",
      "dtype: object\n",
      "df_photo_tags Data Types were---> \n",
      " photo_id    int64\n",
      "tag_id      int64\n",
      "dtype: object\n"
     ]
    }
   ],
   "source": [
    "for i,dfstr in zip(list_df,list_dfstr):\n",
    "    print(dfstr,\"Data Types were--->\",\"\\n\",i.dtypes)"
   ]
  },
  {
   "cell_type": "markdown",
   "id": "d9ce7402-8758-48cc-903c-7cd399c7afa6",
   "metadata": {},
   "source": [
    "Loyal User Reward: The marketing team wants to reward the most loyal users, i.e., those who have been using the platform for the longest time.\n",
    "\n",
    "Your Task: Identify the five oldest users on Instagram from the provided database."
   ]
  },
  {
   "cell_type": "code",
   "execution_count": 27,
   "id": "d5f6b748-12f6-4532-8ccc-39fdee62fd2b",
   "metadata": {},
   "outputs": [
    {
     "data": {
      "text/html": [
       "<div>\n",
       "<style scoped>\n",
       "    .dataframe tbody tr th:only-of-type {\n",
       "        vertical-align: middle;\n",
       "    }\n",
       "\n",
       "    .dataframe tbody tr th {\n",
       "        vertical-align: top;\n",
       "    }\n",
       "\n",
       "    .dataframe thead th {\n",
       "        text-align: right;\n",
       "    }\n",
       "</style>\n",
       "<table border=\"1\" class=\"dataframe\">\n",
       "  <thead>\n",
       "    <tr style=\"text-align: right;\">\n",
       "      <th></th>\n",
       "      <th>id</th>\n",
       "      <th>username</th>\n",
       "      <th>created_at</th>\n",
       "    </tr>\n",
       "  </thead>\n",
       "  <tbody>\n",
       "    <tr>\n",
       "      <th>79</th>\n",
       "      <td>80</td>\n",
       "      <td>Darby_Herzog</td>\n",
       "      <td>2016-05-06 00:14:21</td>\n",
       "    </tr>\n",
       "    <tr>\n",
       "      <th>66</th>\n",
       "      <td>67</td>\n",
       "      <td>Emilio_Bernier52</td>\n",
       "      <td>2016-05-06 13:04:30</td>\n",
       "    </tr>\n",
       "    <tr>\n",
       "      <th>62</th>\n",
       "      <td>63</td>\n",
       "      <td>Elenor88</td>\n",
       "      <td>2016-05-08 01:30:41</td>\n",
       "    </tr>\n",
       "    <tr>\n",
       "      <th>94</th>\n",
       "      <td>95</td>\n",
       "      <td>Nicole71</td>\n",
       "      <td>2016-05-09 17:30:22</td>\n",
       "    </tr>\n",
       "    <tr>\n",
       "      <th>37</th>\n",
       "      <td>38</td>\n",
       "      <td>Jordyn.Jacobson2</td>\n",
       "      <td>2016-05-14 07:56:26</td>\n",
       "    </tr>\n",
       "  </tbody>\n",
       "</table>\n",
       "</div>"
      ],
      "text/plain": [
       "    id          username          created_at\n",
       "79  80      Darby_Herzog 2016-05-06 00:14:21\n",
       "66  67  Emilio_Bernier52 2016-05-06 13:04:30\n",
       "62  63          Elenor88 2016-05-08 01:30:41\n",
       "94  95          Nicole71 2016-05-09 17:30:22\n",
       "37  38  Jordyn.Jacobson2 2016-05-14 07:56:26"
      ]
     },
     "execution_count": 27,
     "metadata": {},
     "output_type": "execute_result"
    }
   ],
   "source": [
    "list_df[0].sort_values([\"created_at\"]).head(5)\n"
   ]
  },
  {
   "cell_type": "markdown",
   "id": "3831bd69-4b8e-46fd-ae00-81c6d38c198d",
   "metadata": {},
   "source": [
    "Inactive User Engagement: The team wants to encourage inactive users to start posting by sending them promotional emails.\n",
    "\n",
    "Your Task: Identify users who have never posted a single photo on Instagram."
   ]
  },
  {
   "cell_type": "code",
   "execution_count": 28,
   "id": "19baf7bb-4248-4a57-b0e3-45f40e50798c",
   "metadata": {},
   "outputs": [
    {
     "data": {
      "text/html": [
       "<div>\n",
       "<style scoped>\n",
       "    .dataframe tbody tr th:only-of-type {\n",
       "        vertical-align: middle;\n",
       "    }\n",
       "\n",
       "    .dataframe tbody tr th {\n",
       "        vertical-align: top;\n",
       "    }\n",
       "\n",
       "    .dataframe thead th {\n",
       "        text-align: right;\n",
       "    }\n",
       "</style>\n",
       "<table border=\"1\" class=\"dataframe\">\n",
       "  <thead>\n",
       "    <tr style=\"text-align: right;\">\n",
       "      <th></th>\n",
       "      <th>id</th>\n",
       "      <th>username</th>\n",
       "      <th>created_at</th>\n",
       "    </tr>\n",
       "  </thead>\n",
       "  <tbody>\n",
       "    <tr>\n",
       "      <th>4</th>\n",
       "      <td>5</td>\n",
       "      <td>Aniya_Hackett</td>\n",
       "      <td>2016-12-07 01:04:39</td>\n",
       "    </tr>\n",
       "    <tr>\n",
       "      <th>6</th>\n",
       "      <td>7</td>\n",
       "      <td>Kasandra_Homenick</td>\n",
       "      <td>2016-12-12 06:50:08</td>\n",
       "    </tr>\n",
       "    <tr>\n",
       "      <th>13</th>\n",
       "      <td>14</td>\n",
       "      <td>Jaclyn81</td>\n",
       "      <td>2017-02-06 23:29:16</td>\n",
       "    </tr>\n",
       "    <tr>\n",
       "      <th>20</th>\n",
       "      <td>21</td>\n",
       "      <td>Rocio33</td>\n",
       "      <td>2017-01-23 11:51:15</td>\n",
       "    </tr>\n",
       "    <tr>\n",
       "      <th>23</th>\n",
       "      <td>24</td>\n",
       "      <td>Maxwell.Halvorson</td>\n",
       "      <td>2017-04-18 02:32:44</td>\n",
       "    </tr>\n",
       "    <tr>\n",
       "      <th>24</th>\n",
       "      <td>25</td>\n",
       "      <td>Tierra.Trantow</td>\n",
       "      <td>2016-10-03 12:49:21</td>\n",
       "    </tr>\n",
       "    <tr>\n",
       "      <th>33</th>\n",
       "      <td>34</td>\n",
       "      <td>Pearl7</td>\n",
       "      <td>2016-07-08 21:42:01</td>\n",
       "    </tr>\n",
       "    <tr>\n",
       "      <th>35</th>\n",
       "      <td>36</td>\n",
       "      <td>Ollie_Ledner37</td>\n",
       "      <td>2016-08-04 15:42:20</td>\n",
       "    </tr>\n",
       "    <tr>\n",
       "      <th>40</th>\n",
       "      <td>41</td>\n",
       "      <td>Mckenna17</td>\n",
       "      <td>2016-07-17 17:25:45</td>\n",
       "    </tr>\n",
       "    <tr>\n",
       "      <th>44</th>\n",
       "      <td>45</td>\n",
       "      <td>David.Osinski47</td>\n",
       "      <td>2017-02-05 21:23:37</td>\n",
       "    </tr>\n",
       "    <tr>\n",
       "      <th>48</th>\n",
       "      <td>49</td>\n",
       "      <td>Morgan.Kassulke</td>\n",
       "      <td>2016-10-30 12:42:31</td>\n",
       "    </tr>\n",
       "    <tr>\n",
       "      <th>52</th>\n",
       "      <td>53</td>\n",
       "      <td>Linnea59</td>\n",
       "      <td>2017-02-07 07:49:34</td>\n",
       "    </tr>\n",
       "    <tr>\n",
       "      <th>53</th>\n",
       "      <td>54</td>\n",
       "      <td>Duane60</td>\n",
       "      <td>2016-12-21 04:43:38</td>\n",
       "    </tr>\n",
       "    <tr>\n",
       "      <th>56</th>\n",
       "      <td>57</td>\n",
       "      <td>Julien_Schmidt</td>\n",
       "      <td>2017-02-02 23:12:48</td>\n",
       "    </tr>\n",
       "    <tr>\n",
       "      <th>65</th>\n",
       "      <td>66</td>\n",
       "      <td>Mike.Auer39</td>\n",
       "      <td>2016-07-01 17:36:15</td>\n",
       "    </tr>\n",
       "    <tr>\n",
       "      <th>67</th>\n",
       "      <td>68</td>\n",
       "      <td>Franco_Keebler64</td>\n",
       "      <td>2016-11-13 20:09:27</td>\n",
       "    </tr>\n",
       "    <tr>\n",
       "      <th>70</th>\n",
       "      <td>71</td>\n",
       "      <td>Nia_Haag</td>\n",
       "      <td>2016-05-14 15:38:50</td>\n",
       "    </tr>\n",
       "    <tr>\n",
       "      <th>73</th>\n",
       "      <td>74</td>\n",
       "      <td>Hulda.Macejkovic</td>\n",
       "      <td>2017-01-25 17:17:28</td>\n",
       "    </tr>\n",
       "    <tr>\n",
       "      <th>74</th>\n",
       "      <td>75</td>\n",
       "      <td>Leslie67</td>\n",
       "      <td>2016-09-21 05:14:01</td>\n",
       "    </tr>\n",
       "    <tr>\n",
       "      <th>75</th>\n",
       "      <td>76</td>\n",
       "      <td>Janelle.Nikolaus81</td>\n",
       "      <td>2016-07-21 09:26:09</td>\n",
       "    </tr>\n",
       "    <tr>\n",
       "      <th>79</th>\n",
       "      <td>80</td>\n",
       "      <td>Darby_Herzog</td>\n",
       "      <td>2016-05-06 00:14:21</td>\n",
       "    </tr>\n",
       "    <tr>\n",
       "      <th>80</th>\n",
       "      <td>81</td>\n",
       "      <td>Esther.Zulauf61</td>\n",
       "      <td>2017-01-14 17:02:34</td>\n",
       "    </tr>\n",
       "    <tr>\n",
       "      <th>82</th>\n",
       "      <td>83</td>\n",
       "      <td>Bartholome.Bernhard</td>\n",
       "      <td>2016-11-06 02:31:23</td>\n",
       "    </tr>\n",
       "    <tr>\n",
       "      <th>88</th>\n",
       "      <td>89</td>\n",
       "      <td>Jessyca_West</td>\n",
       "      <td>2016-09-14 23:47:05</td>\n",
       "    </tr>\n",
       "    <tr>\n",
       "      <th>89</th>\n",
       "      <td>90</td>\n",
       "      <td>Esmeralda.Mraz57</td>\n",
       "      <td>2017-03-03 11:52:27</td>\n",
       "    </tr>\n",
       "    <tr>\n",
       "      <th>90</th>\n",
       "      <td>91</td>\n",
       "      <td>Bethany20</td>\n",
       "      <td>2016-06-03 23:31:53</td>\n",
       "    </tr>\n",
       "  </tbody>\n",
       "</table>\n",
       "</div>"
      ],
      "text/plain": [
       "    id             username          created_at\n",
       "4    5        Aniya_Hackett 2016-12-07 01:04:39\n",
       "6    7    Kasandra_Homenick 2016-12-12 06:50:08\n",
       "13  14             Jaclyn81 2017-02-06 23:29:16\n",
       "20  21              Rocio33 2017-01-23 11:51:15\n",
       "23  24    Maxwell.Halvorson 2017-04-18 02:32:44\n",
       "24  25       Tierra.Trantow 2016-10-03 12:49:21\n",
       "33  34               Pearl7 2016-07-08 21:42:01\n",
       "35  36       Ollie_Ledner37 2016-08-04 15:42:20\n",
       "40  41            Mckenna17 2016-07-17 17:25:45\n",
       "44  45      David.Osinski47 2017-02-05 21:23:37\n",
       "48  49      Morgan.Kassulke 2016-10-30 12:42:31\n",
       "52  53             Linnea59 2017-02-07 07:49:34\n",
       "53  54              Duane60 2016-12-21 04:43:38\n",
       "56  57       Julien_Schmidt 2017-02-02 23:12:48\n",
       "65  66          Mike.Auer39 2016-07-01 17:36:15\n",
       "67  68     Franco_Keebler64 2016-11-13 20:09:27\n",
       "70  71             Nia_Haag 2016-05-14 15:38:50\n",
       "73  74     Hulda.Macejkovic 2017-01-25 17:17:28\n",
       "74  75             Leslie67 2016-09-21 05:14:01\n",
       "75  76   Janelle.Nikolaus81 2016-07-21 09:26:09\n",
       "79  80         Darby_Herzog 2016-05-06 00:14:21\n",
       "80  81      Esther.Zulauf61 2017-01-14 17:02:34\n",
       "82  83  Bartholome.Bernhard 2016-11-06 02:31:23\n",
       "88  89         Jessyca_West 2016-09-14 23:47:05\n",
       "89  90     Esmeralda.Mraz57 2017-03-03 11:52:27\n",
       "90  91            Bethany20 2016-06-03 23:31:53"
      ]
     },
     "execution_count": 28,
     "metadata": {},
     "output_type": "execute_result"
    }
   ],
   "source": [
    "l=[]\n",
    "s= set(list_df[1]['user_id'].unique())\n",
    "for i in range(1,101):\n",
    "    if not i in s:\n",
    "        l.append(i)\n",
    "l\n",
    "df_notposted=list_df[0][list_df[0]['id'].isin(l)]\n",
    "df_notposted"
   ]
  },
  {
   "cell_type": "markdown",
   "id": "05b56a4a-91e1-4cfc-8498-b462e71ca19c",
   "metadata": {},
   "source": [
    "Creating a user-defined function for performing smooth analysis."
   ]
  },
  {
   "cell_type": "code",
   "execution_count": 30,
   "id": "945de35f-a0d5-43b8-8e9c-1ede495dda5d",
   "metadata": {},
   "outputs": [],
   "source": [
    "def Count_things(l):\n",
    "    d={}\n",
    "    for i in range(len(l)):\n",
    "        if l[i] in d.keys():\n",
    "            d[l[i]]+=1\n",
    "        else:\n",
    "            d[l[i]]=1\n",
    "\n",
    "    return d"
   ]
  },
  {
   "cell_type": "markdown",
   "id": "43f1af2c-f3a1-4508-859d-9c48dc5e4338",
   "metadata": {},
   "source": [
    "Contest Winner Declaration: The team has organized a contest where the user with the most likes on a single photo wins.\n",
    "\n",
    "Your Task: Determine the winner of the contest and provide their details to the team."
   ]
  },
  {
   "cell_type": "code",
   "execution_count": 31,
   "id": "081ba5e5-3dfc-49be-bba7-921a93ca71be",
   "metadata": {},
   "outputs": [
    {
     "data": {
      "text/plain": [
       "id                             52\n",
       "username            Zack_Kemmer93\n",
       "created_at    2017-01-01 05:58:22\n",
       "Name: 51, dtype: object"
      ]
     },
     "execution_count": 31,
     "metadata": {},
     "output_type": "execute_result"
    }
   ],
   "source": [
    "l=list(df_likes['photo_id'])\n",
    "dict1=Count_things(l)\n",
    "s=dict(sorted(dict1.items(), key=lambda item: item[1],reverse=True))\n",
    "max(dict1,key=dict1.get)\n",
    "df_photos.loc[144]\n",
    "df_users.loc[51]"
   ]
  },
  {
   "cell_type": "markdown",
   "id": "66abfb5a-8b28-4582-86d2-b247af94f6f0",
   "metadata": {},
   "source": [
    "Hashtag Research: A partner brand wants to know the most popular hashtags to use in their posts to reach the most people.\n",
    "\n",
    "Your Task: Identify and suggest the top five most commonly used hashtags on the platform."
   ]
  },
  {
   "cell_type": "code",
   "execution_count": 32,
   "id": "25042fa8-7880-4d56-ad0b-d2e32e0ff9d9",
   "metadata": {},
   "outputs": [],
   "source": [
    "l_tag=df_photo_tags['tag_id']\n",
    "tag_dict=Count_things(l_tag)\n",
    "s_tags=dict(sorted(tag_dict.items(),key=lambda item: item[1],reverse=True))\n",
    "s_tags = {int(key): value for key, value in s_tags.items()}\n"
   ]
  },
  {
   "cell_type": "code",
   "execution_count": 33,
   "id": "1e54658a-9c13-4795-8aba-90a5e2c28f6b",
   "metadata": {},
   "outputs": [
    {
     "data": {
      "text/html": [
       "<div>\n",
       "<style scoped>\n",
       "    .dataframe tbody tr th:only-of-type {\n",
       "        vertical-align: middle;\n",
       "    }\n",
       "\n",
       "    .dataframe tbody tr th {\n",
       "        vertical-align: top;\n",
       "    }\n",
       "\n",
       "    .dataframe thead th {\n",
       "        text-align: right;\n",
       "    }\n",
       "</style>\n",
       "<table border=\"1\" class=\"dataframe\">\n",
       "  <thead>\n",
       "    <tr style=\"text-align: right;\">\n",
       "      <th></th>\n",
       "      <th>id</th>\n",
       "      <th>tag_name</th>\n",
       "      <th>created_at</th>\n",
       "    </tr>\n",
       "  </thead>\n",
       "  <tbody>\n",
       "    <tr>\n",
       "      <th>20</th>\n",
       "      <td>21</td>\n",
       "      <td>smile</td>\n",
       "      <td>2024-07-22 17:38:50</td>\n",
       "    </tr>\n",
       "    <tr>\n",
       "      <th>19</th>\n",
       "      <td>20</td>\n",
       "      <td>beach</td>\n",
       "      <td>2024-07-22 17:38:50</td>\n",
       "    </tr>\n",
       "    <tr>\n",
       "      <th>16</th>\n",
       "      <td>17</td>\n",
       "      <td>party</td>\n",
       "      <td>2024-07-22 17:38:50</td>\n",
       "    </tr>\n",
       "    <tr>\n",
       "      <th>12</th>\n",
       "      <td>13</td>\n",
       "      <td>fun</td>\n",
       "      <td>2024-07-22 17:38:50</td>\n",
       "    </tr>\n",
       "    <tr>\n",
       "      <th>4</th>\n",
       "      <td>5</td>\n",
       "      <td>food</td>\n",
       "      <td>2024-07-22 17:38:50</td>\n",
       "    </tr>\n",
       "  </tbody>\n",
       "</table>\n",
       "</div>"
      ],
      "text/plain": [
       "    id tag_name          created_at\n",
       "20  21    smile 2024-07-22 17:38:50\n",
       "19  20    beach 2024-07-22 17:38:50\n",
       "16  17    party 2024-07-22 17:38:50\n",
       "12  13      fun 2024-07-22 17:38:50\n",
       "4    5     food 2024-07-22 17:38:50"
      ]
     },
     "execution_count": 33,
     "metadata": {},
     "output_type": "execute_result"
    }
   ],
   "source": [
    "s_list=list(s_tags.keys())\n",
    "s_list=s_list[:5]\n",
    "df_tags.iloc[list(i-1 for i in s_list)]"
   ]
  },
  {
   "cell_type": "markdown",
   "id": "9263387f-300c-40d2-bad6-5976a83728e9",
   "metadata": {},
   "source": [
    "Ad Campaign Launch: The team wants to know the best day of the week to launch ads.\n",
    "    \n",
    "Your Task: Determine the day of the week when most users register on Instagram. Provide insights on when to schedule an ad campaign."
   ]
  },
  {
   "cell_type": "code",
   "execution_count": 34,
   "id": "4ec23939-fef1-4331-a838-8881fa76b1fd",
   "metadata": {},
   "outputs": [
    {
     "data": {
      "text/plain": [
       "{'Thursday': 16,\n",
       " 'Sunday': 16,\n",
       " 'Tuesday': 14,\n",
       " 'Saturday': 12,\n",
       " 'Wednesday': 13,\n",
       " 'Monday': 14,\n",
       " 'Friday': 15}"
      ]
     },
     "execution_count": 34,
     "metadata": {},
     "output_type": "execute_result"
    }
   ],
   "source": [
    "list_day=list(df_users['created_at'].dt.day_name())\n",
    "ss=Count_things(list_day)\n",
    "ss"
   ]
  },
  {
   "cell_type": "code",
   "execution_count": 35,
   "id": "c31c62d2-8e89-435a-b1c1-41eeebc614d7",
   "metadata": {},
   "outputs": [
    {
     "data": {
      "image/png": "[encoded data removed]",
      "text/plain": [
       "<Figure size 500x500 with 1 Axes>"
      ]
     },
     "metadata": {},
     "output_type": "display_data"
    }
   ],
   "source": [
    "# Extract the labels (days) and the corresponding values (counts)\n",
    "labels = list(ss.keys())\n",
    "sizes = list(ss.values())\n",
    "\n",
    "# Define custom colors for the pie chart\n",
    "colors = ['#ff9999', '#66b3ff', '#99ff99', '#ffcc99', '#c2c2f0', '#ffb3e6', '#c4e17f']\n",
    "\n",
    "# Plot the pie chart\n",
    "plt.figure(figsize=(5, 5))  # Adjust the figure size\n",
    "plt.pie(sizes, labels=labels, autopct='%1.1f%%', colors=colors, startangle=90,explode=(0.2,0.2,0.0,0.0,0.0,0.0,0.0))\n",
    "\n",
    "# Equal aspect ratio ensures that pie chart is drawn as a circle.\n",
    "plt.axis('equal')\n",
    "plt.title('User Creation Days Distribution')\n",
    "plt.show()"
   ]
  },
  {
   "cell_type": "markdown",
   "id": "51fe3025-15dc-460a-b95a-2d52e9668243",
   "metadata": {},
   "source": [
    "User Engagement: Investors want to know if users are still active and posting on Instagram or if they are making fewer posts.\n",
    "    \n",
    "Your Task: Calculate the average number of posts per user on Instagram. Also, provide the total number of photos on Instagram divided by the total number of users."
   ]
  },
  {
   "cell_type": "code",
   "execution_count": 36,
   "id": "605843ea-cafc-435c-932a-33d6118139fc",
   "metadata": {},
   "outputs": [],
   "source": [
    "user_post=list(df_photos['user_id'])\n",
    "user_post_dict=Count_things(user_post)\n",
    "list2=pd.Series(user_post_dict.values())\n",
    "tnp=list2.sum()/len(df_users)\n",
    "Average=list2.mean()\n"
   ]
  },
  {
   "cell_type": "markdown",
   "id": "125e9624-da22-4e0f-b3cc-61f55bb39e20",
   "metadata": {},
   "source": [
    "Bots & Fake Accounts: Investors want to know if the platform is crowded with fake and dummy accounts.\n",
    "\n",
    "Your Task: Identify users (potential bots) who have liked every single photo on the site, as this is not typically possible for a normal user."
   ]
  },
  {
   "cell_type": "code",
   "execution_count": 37,
   "id": "ebfeebf0-236a-40f7-b1d1-69acce5cc924",
   "metadata": {},
   "outputs": [
    {
     "data": {
      "text/html": [
       "<div>\n",
       "<style scoped>\n",
       "    .dataframe tbody tr th:only-of-type {\n",
       "        vertical-align: middle;\n",
       "    }\n",
       "\n",
       "    .dataframe tbody tr th {\n",
       "        vertical-align: top;\n",
       "    }\n",
       "\n",
       "    .dataframe thead th {\n",
       "        text-align: right;\n",
       "    }\n",
       "</style>\n",
       "<table border=\"1\" class=\"dataframe\">\n",
       "  <thead>\n",
       "    <tr style=\"text-align: right;\">\n",
       "      <th></th>\n",
       "      <th>id</th>\n",
       "      <th>username</th>\n",
       "      <th>created_at</th>\n",
       "    </tr>\n",
       "  </thead>\n",
       "  <tbody>\n",
       "    <tr>\n",
       "      <th>4</th>\n",
       "      <td>5</td>\n",
       "      <td>Aniya_Hackett</td>\n",
       "      <td>2016-12-07 01:04:39</td>\n",
       "    </tr>\n",
       "    <tr>\n",
       "      <th>13</th>\n",
       "      <td>14</td>\n",
       "      <td>Jaclyn81</td>\n",
       "      <td>2017-02-06 23:29:16</td>\n",
       "    </tr>\n",
       "    <tr>\n",
       "      <th>20</th>\n",
       "      <td>21</td>\n",
       "      <td>Rocio33</td>\n",
       "      <td>2017-01-23 11:51:15</td>\n",
       "    </tr>\n",
       "    <tr>\n",
       "      <th>23</th>\n",
       "      <td>24</td>\n",
       "      <td>Maxwell.Halvorson</td>\n",
       "      <td>2017-04-18 02:32:44</td>\n",
       "    </tr>\n",
       "    <tr>\n",
       "      <th>35</th>\n",
       "      <td>36</td>\n",
       "      <td>Ollie_Ledner37</td>\n",
       "      <td>2016-08-04 15:42:20</td>\n",
       "    </tr>\n",
       "    <tr>\n",
       "      <th>40</th>\n",
       "      <td>41</td>\n",
       "      <td>Mckenna17</td>\n",
       "      <td>2016-07-17 17:25:45</td>\n",
       "    </tr>\n",
       "    <tr>\n",
       "      <th>53</th>\n",
       "      <td>54</td>\n",
       "      <td>Duane60</td>\n",
       "      <td>2016-12-21 04:43:38</td>\n",
       "    </tr>\n",
       "    <tr>\n",
       "      <th>56</th>\n",
       "      <td>57</td>\n",
       "      <td>Julien_Schmidt</td>\n",
       "      <td>2017-02-02 23:12:48</td>\n",
       "    </tr>\n",
       "    <tr>\n",
       "      <th>65</th>\n",
       "      <td>66</td>\n",
       "      <td>Mike.Auer39</td>\n",
       "      <td>2016-07-01 17:36:15</td>\n",
       "    </tr>\n",
       "    <tr>\n",
       "      <th>70</th>\n",
       "      <td>71</td>\n",
       "      <td>Nia_Haag</td>\n",
       "      <td>2016-05-14 15:38:50</td>\n",
       "    </tr>\n",
       "    <tr>\n",
       "      <th>74</th>\n",
       "      <td>75</td>\n",
       "      <td>Leslie67</td>\n",
       "      <td>2016-09-21 05:14:01</td>\n",
       "    </tr>\n",
       "    <tr>\n",
       "      <th>75</th>\n",
       "      <td>76</td>\n",
       "      <td>Janelle.Nikolaus81</td>\n",
       "      <td>2016-07-21 09:26:09</td>\n",
       "    </tr>\n",
       "    <tr>\n",
       "      <th>90</th>\n",
       "      <td>91</td>\n",
       "      <td>Bethany20</td>\n",
       "      <td>2016-06-03 23:31:53</td>\n",
       "    </tr>\n",
       "  </tbody>\n",
       "</table>\n",
       "</div>"
      ],
      "text/plain": [
       "    id            username          created_at\n",
       "4    5       Aniya_Hackett 2016-12-07 01:04:39\n",
       "13  14            Jaclyn81 2017-02-06 23:29:16\n",
       "20  21             Rocio33 2017-01-23 11:51:15\n",
       "23  24   Maxwell.Halvorson 2017-04-18 02:32:44\n",
       "35  36      Ollie_Ledner37 2016-08-04 15:42:20\n",
       "40  41           Mckenna17 2016-07-17 17:25:45\n",
       "53  54             Duane60 2016-12-21 04:43:38\n",
       "56  57      Julien_Schmidt 2017-02-02 23:12:48\n",
       "65  66         Mike.Auer39 2016-07-01 17:36:15\n",
       "70  71            Nia_Haag 2016-05-14 15:38:50\n",
       "74  75            Leslie67 2016-09-21 05:14:01\n",
       "75  76  Janelle.Nikolaus81 2016-07-21 09:26:09\n",
       "90  91           Bethany20 2016-06-03 23:31:53"
      ]
     },
     "execution_count": 37,
     "metadata": {},
     "output_type": "execute_result"
    }
   ],
   "source": [
    "dict_likes=Count_things(list(df_likes['user_id']))\n",
    "l_user=[]\n",
    "for key,value in dict_likes.items():\n",
    "    if value==257:\n",
    "        l_user.append(key)\n",
    "l_user\n",
    "l_usernames = df_users[df_users['id'].isin(l_user)][['id', 'username','created_at']]\n",
    "l_usernames"
   ]
  },
  {
   "cell_type": "markdown",
   "id": "1e4f8f07-9312-4d3d-878d-8f8d51eecc94",
   "metadata": {},
   "source": [
    "Visualize the Top 5 Users who uploads max photos"
   ]
  },
  {
   "cell_type": "code",
   "execution_count": 38,
   "id": "11c63f56-cb80-460d-83a6-e702e81bebfb",
   "metadata": {},
   "outputs": [
    {
     "data": {
      "image/png": "[encoded data removed]",
      "text/plain": [
       "<Figure size 640x480 with 1 Axes>"
      ]
     },
     "metadata": {},
     "output_type": "display_data"
    }
   ],
   "source": [
    "# Define custom colors\n",
    "colors = ['#ff9999', '#66b3ff', '#99ff99', '#ffcc99', '#c2c2f0']\n",
    "\n",
    "# Get the top 5 users with their user_id as labels\n",
    "top_users = df_photos['user_id'].value_counts().head(5)\n",
    "\n",
    "# Extract the corresponding usernames for the top 5 user_ids\n",
    "user_ids = top_users.index\n",
    "usernames = df_users[df_users['id'].isin(user_ids)].set_index('id').loc[user_ids]['username']\n",
    "\n",
    "# Plot pie chart with custom colors and usernames as labels\n",
    "top_users.plot(kind='pie', autopct='%1.1f%%', colors=colors, labels=usernames, title='Top 5 Users by Photo Uploads',explode=(0.2,0.0,0.0,0.0,0.0))\n",
    "\n",
    "# Show the plot\n",
    "plt.show()\n"
   ]
  }
 ],
 "metadata": {
  "kernelspec": {
   "display_name": "Python 3 (ipykernel)",
   "language": "python",
   "name": "python3"
  },
  "language_info": {
   "codemirror_mode": {
    "name": "ipython",
    "version": 3
   },
   "file_extension": ".py",
   "mimetype": "text/x-python",
   "name": "python",
   "nbconvert_exporter": "python",
   "pygments_lexer": "ipython3",
   "version": "3.12.3"
  }
 },
 "nbformat": 4,
 "nbformat_minor": 5
}
